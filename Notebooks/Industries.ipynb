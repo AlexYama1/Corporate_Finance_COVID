{
 "cells": [
  {
   "cell_type": "code",
   "execution_count": 1,
   "id": "0aa90612",
   "metadata": {},
   "outputs": [],
   "source": [
    "# Libraries in the use\n",
    "import pandas as pd\n",
    "import numpy as np\n",
    "import yfinance as yf\n",
    "import matplotlib.pyplot as plt\n",
    "from datetime import date\n",
    "import seaborn as sns"
   ]
  },
  {
   "cell_type": "markdown",
   "id": "801ddebf",
   "metadata": {},
   "source": [
    "### Loading the Data"
   ]
  },
  {
   "cell_type": "code",
   "execution_count": 2,
   "id": "57c02ac3",
   "metadata": {},
   "outputs": [],
   "source": [
    "# US ETFs\n",
    "US_SECTORS = [\n",
    "  \"XLK\",   # Computer & Technology – Tech Select Sector SPDR\n",
    "  \"XLV\",   # Medical – Health Care Select Sector SPDR\n",
    "  \"XLE\",   # Oils/Energy – Energy Select Sector SPDR\n",
    "  \"XRT\",   # Retail/Wholesale – SPDR S&P Retail (broad/equal-weight retail)\n",
    "  \"XLP\",   # Consumer Staples – Consumer Staples Select Sector SPDR\n",
    "  \"IGV\",   # Business Services – iShares Expanded Tech-Software (IT services/outsourcing proxy)\n",
    "  \"XLB\",   # Basic Materials – Materials Select Sector SPDR\n",
    "  \"XLU\",   # Utilities – Utilities Select Sector SPDR\n",
    "  \"ITA\",   # Aerospace – iShares U.S. Aerospace & Defense\n",
    "  \"XLI\",   # Industrial Products – Industrials Select Sector SPDR\n",
    "  \"XLY\",   # Consumer Discretionary – Consumer Discretionary Select Sector SPDR\n",
    "  \"ITB\",   # Construction – iShares U.S. Home Construction\n",
    "  \"IYT\",   # Transportation – iShares U.S. Transportation\n",
    "  \"CARZ\"   # Auto/Tires/Trucks – First Trust NASDAQ Global Auto (autos proxy)\n",
    "]\n",
    "# Japan ETFs \n",
    "JP_SECTORS = [\n",
    "  \"1625.T\", # Computer & Technology – Electric Appliances & Precision Instruments (tech hardware proxy)\n",
    "  \"1621.T\", # Medical – Pharmaceutical (narrower than US health care)\n",
    "  \"1618.T\", # Oils/Energy – Energy Resources\n",
    "  \"1629.T\", # Retail/Wholesale – Commercial & Wholesale Trade\n",
    "  \"1617.T\", # Consumer Staples – Foods (closest to staples)\n",
    "  \"1626.T\", # Business Services – IT & Services, Others\n",
    "  \"1620.T\", # Basic Materials – Raw Materials & Chemicals\n",
    "  \"1627.T\", # Utilities – Electric Power & Gas\n",
    "  \"1624.T\", # Aerospace – Machinery (closest domestic proxy for aerospace/defense supply chain)\n",
    "  \"1623.T\", # Industrial Products – Steel & Nonferrous Metals (core industrial inputs)\n",
    "  \"1630.T\", # Consumer Discretionary – Retail Trade (broad JP discretionary exposure)\n",
    "  \"1619.T\", # Construction – Construction & Materials\n",
    "  \"1628.T\", # Transportation – Transportation & Logistics\n",
    "  \"1622.T\"  # Auto/Tires/Trucks – Automobiles & Transportation Equipment\n",
    "]"
   ]
  },
  {
   "cell_type": "code",
   "execution_count": null,
   "id": "e50fa52c",
   "metadata": {},
   "outputs": [],
   "source": [
    "# Benchmarks\n",
    "US_BENCH = \"SPY\"      # S&P 500 ETF\n",
    "JP_BENCH = \"1321.T\"   # Nikkei 225 ETF\n",
    "\n",
    "start = \"2019-01-01\"\n",
    "end = \"2022-12-31\"\n",
    "\n",
    "# Loading the data\n",
    "def load_sector_data(tickers, start, end):\n",
    "    \"\"\"Download sector data and clean column names\"\"\"\n",
    "    df = yf.download(tickers, start=start, end=end, auto_adjust=False, progress=False)[\"Adj Close\"]\n",
    "    df = df.reset_index()  # Move date from index to column\n",
    "    df.columns.name = None  # Remove multi-index name\n",
    "    return df\n",
    "\n",
    "us_data = load_sector_data(US_SECTORS, start, end)\n",
    "jp_data = load_sector_data(JP_SECTORS, start, end)"
   ]
  },
  {
   "cell_type": "markdown",
   "id": "1ffb34e9",
   "metadata": {},
   "source": [
    "### Computing Returns in each phase "
   ]
  },
  {
   "cell_type": "markdown",
   "id": "1cdadaee",
   "metadata": {},
   "source": [
    "<div align=\"left\">\n",
    "Using the following formulas:\n",
    "\n",
    "$$ R_{crash} = \\frac{P_{trough}}{P_{peak}} - 1$$\n",
    "$$ R_{recovery} = \\frac{P_{recovery}}{P_{trough}} - 1$$\n",
    "$$ R_{post} = \\frac{P_{end}}{P_{recovery}} - 1$$\n",
    "\n",
    "\n",
    "</div>"
   ]
  },
  {
   "cell_type": "markdown",
   "id": "b0e7f5bb",
   "metadata": {},
   "source": [
    "1. Computing the Return"
   ]
  },
  {
   "cell_type": "code",
   "execution_count": null,
   "id": "99849408",
   "metadata": {},
   "outputs": [],
   "source": [
    "def compute_phase_return(df, phase):\n",
    "    \"\"\"\n",
    "    Compute returns of each ETFs during: Crash, Recovery, and Post-Covid.\n",
    "\n",
    "    Parameters: \n",
    "        df: pd.DataFrame - our data of the ETFs (us_data, jp_data)\n",
    "\n",
    "        phase: Dates from the market_phases.csv\n",
    "\n",
    "    Output:\n",
    "        pd.DataFrame - Summary Table of returns (%)\n",
    "    \"\"\"\n",
    "\n",
    "    peak = phase[\"peak_date\"]\n",
    "    trough = phase[\"trough_date\"]\n",
    "    recovery = phase[\"recovery_date\"]\n",
    "\n",
    "    df = df."
   ]
  },
  {
   "cell_type": "markdown",
   "id": "014b621c",
   "metadata": {},
   "source": []
  },
  {
   "cell_type": "code",
   "execution_count": null,
   "id": "7631f78b",
   "metadata": {},
   "outputs": [],
   "source": []
  }
 ],
 "metadata": {
  "kernelspec": {
   "display_name": "DataScienceEnv",
   "language": "python",
   "name": "python3"
  },
  "language_info": {
   "codemirror_mode": {
    "name": "ipython",
    "version": 3
   },
   "file_extension": ".py",
   "mimetype": "text/x-python",
   "name": "python",
   "nbconvert_exporter": "python",
   "pygments_lexer": "ipython3",
   "version": "3.13.0"
  }
 },
 "nbformat": 4,
 "nbformat_minor": 5
}
